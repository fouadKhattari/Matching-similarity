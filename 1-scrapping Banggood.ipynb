{
 "cells": [
  {
   "cell_type": "markdown",
   "id": "ff5e5c03-3417-4328-ada3-e7c30050b0a7",
   "metadata": {
    "id": "ff5e5c03-3417-4328-ada3-e7c30050b0a7"
   },
   "source": [
    "## **Scrapping Data From Banggood Site**"
   ]
  },
  {
   "cell_type": "markdown",
   "id": "467d1c56-9928-405d-b225-45ea6f9c7bf3",
   "metadata": {
    "id": "467d1c56-9928-405d-b225-45ea6f9c7bf3"
   },
   "source": [
    "### **Import library**"
   ]
  },
  {
   "cell_type": "code",
   "execution_count": null,
   "id": "1f7dda71-5f04-4f50-a8ed-80383696b004",
   "metadata": {
    "id": "1f7dda71-5f04-4f50-a8ed-80383696b004"
   },
   "outputs": [],
   "source": [
    "from bs4 import BeautifulSoup\n",
    "from selenium import webdriver\n",
    "import time\n",
    "from selenium.webdriver.common.keys import Keys\n",
    "import json\n",
    "import os\n",
    "import re\n",
    "from selenium.common.exceptions import StaleElementReferenceException\n",
    "from selenium.webdriver.common.keys import Keys\n",
    "from selenium import webdriver\n",
    "from selenium.webdriver.common.by import By\n",
    "from selenium.webdriver.chrome.service import Service as ChromeService\n",
    "from selenium.webdriver.chrome.options import Options\n",
    "from selenium.webdriver.support.ui import WebDriverWait\n",
    "from selenium.webdriver.support import expected_conditions as EC\n",
    "from selenium.common.exceptions import NoSuchElementException\n",
    "\n",
    "from datetime import datetime, timedelta\n",
    "from selenium import webdriver\n",
    "from selenium.webdriver.common.by import By\n",
    "from selenium.webdriver.chrome.options import Options\n",
    "from selenium.webdriver.common.action_chains import ActionChains\n",
    "import time\n",
    "from selenium.common.exceptions import ElementNotInteractableException"
   ]
  },
  {
   "cell_type": "code",
   "execution_count": null,
   "id": "4348d9fa-6e90-4213-8958-a989e2fca30c",
   "metadata": {
    "id": "4348d9fa-6e90-4213-8958-a989e2fca30c"
   },
   "outputs": [],
   "source": [
    "categorie_name = \"ألعلب الهوايات و الأنسان الآلي\""
   ]
  },
  {
   "cell_type": "markdown",
   "id": "1fb32697-b6ae-44d9-b67e-03d3b4b11616",
   "metadata": {
    "id": "1fb32697-b6ae-44d9-b67e-03d3b4b11616"
   },
   "source": [
    "### **Get Links For Sub-Categories**"
   ]
  },
  {
   "cell_type": "code",
   "execution_count": null,
   "id": "5e51952e-794a-46ac-b6a9-966ce54e0f83",
   "metadata": {
    "id": "5e51952e-794a-46ac-b6a9-966ce54e0f83"
   },
   "outputs": [],
   "source": [
    "data_dict = []\n",
    "\n",
    "chrome_options = Options()\n",
    "chrome_options.add_argument(\"--disable-notifications\")\n",
    "\n",
    "#---------------------- Path Driver -------------------------------------------\n",
    "driver = webdriver.Chrome(executable_path=r'C:\\Users\\khali\\Desktop\\chromedriver-win64\\chromedriver.exe', options=chrome_options)\n",
    "\n",
    "url = \"https://ar.banggood.com/index.php?akmClientCountry=MA&\"\n",
    "driver.get(url)\n",
    "\n",
    "xpath_popup = '//div[@class=\"newuser-close iconfont icon-cuowutishi exclick\"]'\n",
    "try:\n",
    "    wait_popup = WebDriverWait(driver, 10)\n",
    "    button_popup = wait_popup.until(EC.visibility_of_element_located((By.XPATH, xpath_popup)))\n",
    "    button_popup.click()\n",
    "except Exception as e:\n",
    "    print(\"\")\n",
    "\n",
    "#----------------------------- Nom de Categorie ---------------------------------------------------------\n",
    "xpath_category = f'//a[@data-string2=\"{categorie_name}\"]' #\n",
    "wait_category = WebDriverWait(driver, 10)\n",
    "button_category = wait_category.until(EC.visibility_of_element_located((By.XPATH, xpath_category)))\n",
    "\n",
    "# Create an ActionChains object\n",
    "actions = ActionChains(driver)\n",
    "\n",
    "# Perform the hover action\n",
    "actions.move_to_element(button_category).perform()\n",
    "\n",
    "# Introduce a delay to stay hovered for 5 seconds\n",
    "time.sleep(5)\n",
    "page_source = driver.page_source\n",
    "\n",
    "# Parse the HTML content using BeautifulSoup\n",
    "soup = BeautifulSoup(page_source, 'html.parser')\n",
    "\n",
    "#----------------------- Ajuster l'index du tableau selon le classement de nom de categorie dans la liste des Categories ---------------------------\n",
    "div_element=soup.find_all('div', {'class': 'cate-cnt'})[0]\n",
    "sous_cat_dd = div_element.find_all('dd', {'data-spm': '0000000vJ'})\n",
    "\n",
    "# Iterate through each <dd> tag and find the nested <a> tag\n",
    "for dd_tag in sous_cat_dd:\n",
    "    a_tag = dd_tag.find('a')\n",
    "\n",
    "    if a_tag:\n",
    "        href = a_tag.get('href')\n",
    "        text = a_tag.text.strip()\n",
    "\n",
    "        data_dict.append({\"Href\": href, \"Sous-categorie\": text})\n",
    "\n",
    "# Close the webdriver\n",
    "driver.quit()"
   ]
  },
  {
   "cell_type": "code",
   "execution_count": null,
   "id": "83753411-b348-48e8-bfc3-64fbd8af9b27",
   "metadata": {
    "id": "83753411-b348-48e8-bfc3-64fbd8af9b27"
   },
   "outputs": [],
   "source": [
    "import json\n",
    "\n",
    "file_path = 'links_to_sub_categories.json'\n",
    "\n",
    "with open(file_path, 'w',encoding='utf-8') as json_file:\n",
    "    json.dump(data_dict, json_file,ensure_ascii=False,indent=4)\n",
    "\n",
    "print(f\"The list has been written to {file_path}\")"
   ]
  },
  {
   "cell_type": "markdown",
   "id": "d9eaa338-1665-46ed-bc56-07e158dfd08c",
   "metadata": {
    "id": "d9eaa338-1665-46ed-bc56-07e158dfd08c"
   },
   "source": [
    "### **Get Links For Articles**"
   ]
  },
  {
   "cell_type": "code",
   "execution_count": null,
   "id": "e548a06f-6e97-452f-bb02-81a08bd60956",
   "metadata": {
    "id": "e548a06f-6e97-452f-bb02-81a08bd60956"
   },
   "outputs": [],
   "source": [
    "html_pages = []\n",
    "\n",
    "for sous_cat in data_dict:\n",
    "    chrome_options = Options()\n",
    "    chrome_options.add_argument(\"--window-size=1920,900\")\n",
    "    chrome_options.add_argument(\"--disable-notifications\")\n",
    "    driver = webdriver.Chrome(executable_path=r'C:\\Users\\khali\\Desktop\\chromedriver-win64\\chromedriver.exe', options=chrome_options)\n",
    "    driver.get(sous_cat[\"Href\"])\n",
    "\n",
    "    # Handle pop-up if it appears\n",
    "    xpath_popup = '//div[@class=\"newuser-close iconfont icon-cuowutishi exclick\"]'\n",
    "    try:\n",
    "        wait = WebDriverWait(driver, 10)\n",
    "        button_popup = wait.until(EC.visibility_of_element_located((By.XPATH, xpath_popup)))\n",
    "        button_popup.click()\n",
    "    except Exception as e:\n",
    "        print(\"\")\n",
    "\n",
    "    # Define the ul element locator\n",
    "    ul_xpath_1 = '//ul[@data-spm=\"0000001N2\"]'\n",
    "\n",
    "    # Scroll to the end of the page slowly\n",
    "    scroll_distance = 1000  # Adjust the distance as needed\n",
    "    for _ in range(10):\n",
    "        driver.execute_script(f\"window.scrollBy(0, {scroll_distance});\")\n",
    "        time.sleep(5)  # Adjust the sleep time as needed\n",
    "\n",
    "    # Scroll to the end of the page slowly\n",
    "    scroll_distance_1 = 200  # Adjust the distance as needed\n",
    "    for _ in range(1):\n",
    "        driver.execute_script(f\"window.scrollBy(0, {-scroll_distance_1});\")\n",
    "        time.sleep(5)  # Adjust the sleep time as needed\n",
    "\n",
    "    # Gather information from the first page (similar to the original code)\n",
    "    ul_element = WebDriverWait(driver, 10).until(EC.presence_of_element_located((By.XPATH, ul_xpath_1)))\n",
    "    all_li = ul_element.find_elements(By.TAG_NAME, 'li')\n",
    "\n",
    "    # Collect href attributes into a list\n",
    "    href_list = [li.find_element(By.TAG_NAME, 'a').get_attribute('href') for li in all_li]\n",
    "    if all_li[0].find_element(By.TAG_NAME, 'a').text==\"Go back\":\n",
    "        driver.quit()\n",
    "        continue\n",
    "    # Store the href_list in html_pages or process as needed\n",
    "    html_pages.append({\"Sous_Categorie\": sous_cat[\"Sous-categorie\"], \"Href_List\": href_list})\n",
    "\n",
    "    next_page_button = driver.find_element(By.XPATH, '//i[contains(@class, \"iconfont icon-Arrow-right next-page\")]')\n",
    "    while next_page_button:\n",
    "        try:\n",
    "            # If found, move to the next page button and click\n",
    "            next_page_button = driver.find_element(By.XPATH, '//i[contains(@class, \"iconfont icon-Arrow-right next-page\")]')\n",
    "            ActionChains(driver).move_to_element(next_page_button).click().perform()\n",
    "            time.sleep(5)  # Adjust the sleep time as needed\n",
    "            scroll_distance = 1000  # Adjust the distance as needed\n",
    "\n",
    "            for _ in range(10):\n",
    "                driver.execute_script(f\"window.scrollBy(0, {scroll_distance});\")\n",
    "                time.sleep(5)\n",
    "\n",
    "            scroll_distance_1 = 200  # Adjust the distance as needed\n",
    "            for _ in range(1):\n",
    "                driver.execute_script(f\"window.scrollBy(0, {-scroll_distance_1});\")\n",
    "                time.sleep(5)  # Adjust the sleep time as needed\n",
    "\n",
    "            # Gather information from the second page (similar to the first page)\n",
    "            ul_element = WebDriverWait(driver, 10).until(EC.presence_of_element_located((By.XPATH, ul_xpath_1)))\n",
    "            all_li = ul_element.find_elements(By.TAG_NAME, 'li')\n",
    "\n",
    "            # Collect href attributes into a list\n",
    "            href_list = [li.find_element(By.TAG_NAME, 'a').get_attribute('href') for li in all_li]\n",
    "\n",
    "\n",
    "            # Store the href_list in html_pages or process as needed\n",
    "            html_pages.append({\"Sous_Categorie\": sous_cat[\"Sous-categorie\"], \"Href_List\": href_list})\n",
    "            next_page_button = driver.find_element(By.XPATH, '//i[contains(@class, \"iconfont icon-Arrow-right next-page\")]')\n",
    "\n",
    "        except ElementNotInteractableException:\n",
    "            break\n",
    "\n",
    "    driver.quit()"
   ]
  },
  {
   "cell_type": "code",
   "execution_count": null,
   "id": "b255ca89-2500-465c-b2e1-7c1260f88614",
   "metadata": {
    "id": "b255ca89-2500-465c-b2e1-7c1260f88614"
   },
   "outputs": [],
   "source": [
    "import json\n",
    "\n",
    "file_path = 'links_to_articles.json'\n",
    "\n",
    "with open(file_path, 'w',encoding='utf-8') as json_file:\n",
    "    json.dump(data_dict, json_file,ensure_ascii=False,indent=4)\n",
    "\n",
    "print(f\"The list has been written to {file_path}\")"
   ]
  },
  {
   "cell_type": "markdown",
   "id": "0a349a92-bf9b-4ba0-ae63-aa4af6795fd1",
   "metadata": {},
   "source": [
    "### **Get Articles infos**"
   ]
  },
  {
   "cell_type": "code",
   "execution_count": null,
   "id": "0cabd8cb-cfa7-4104-854b-ff8b44067209",
   "metadata": {
    "id": "0cabd8cb-cfa7-4104-854b-ff8b44067209"
   },
   "outputs": [],
   "source": [
    "my_article = []\n",
    "\n",
    "for i in html_pages:\n",
    "    s_categories = i[\"Sous_Categorie\"]\n",
    "    for p,lien in enumerate(i[\"Href_List\"]):\n",
    "        print(f\"Sous_Categorie : {s_categories} , link : {p}\")\n",
    "        try:\n",
    "            chrome_options = Options()\n",
    "            chrome_options.add_argument(\"--window-size=1920,900\")\n",
    "            chrome_options.add_argument(\"--disable-notifications\")\n",
    "            driver = webdriver.Chrome(executable_path=r'C:\\Users\\khali\\Desktop\\chromedriver-win64\\chromedriver.exe', options=chrome_options)\n",
    "            driver.get(lien)\n",
    "\n",
    "            driver.implicitly_wait(10)\n",
    "            time.sleep(5)\n",
    "            scroll_distance = 500\n",
    "            for _ in range(4):\n",
    "                driver.execute_script(f\"window.scrollBy(0, {scroll_distance});\")\n",
    "                time.sleep(5)\n",
    "\n",
    "\n",
    "            page_source = driver.page_source\n",
    "\n",
    "\n",
    "            soup = BeautifulSoup(page_source, 'html.parser')\n",
    "\n",
    "            og_url = soup.find('meta', {'property': 'og:url'})\n",
    "            og_url = og_url.get('content', '') if og_url else ''\n",
    "\n",
    "            og_title = soup.find('meta', {'property': 'og:title'})\n",
    "            og_title = og_title.get('content', '') if og_title else ''\n",
    "\n",
    "            og_img = soup.find('meta', {'property': 'og:image'})\n",
    "            og_img = og_img.get('content', '') if og_img else ''\n",
    "\n",
    "            prix = soup.find('span', {'class': 'main-price'})\n",
    "            prix = prix.text.strip().split(\"$\")[1] if prix else ''\n",
    "\n",
    "            evaluation = soup.find('span', {'class': 'star-num js-star-num'})\n",
    "            evaluation = evaluation.text.strip() if evaluation else ''\n",
    "\n",
    "            marque = soup.find('div', {'class': 'reviewer-brand'})\n",
    "            marque = marque.text.strip().split(\":\")[1] if marque else ''\n",
    "\n",
    "            div_with_spans = soup.find('div', {'class': 'product-oa-desc'})\n",
    "            desc=\"\"\n",
    "\n",
    "            if div_with_spans:\n",
    "                desc=div_with_spans.text\n",
    "            else:\n",
    "                desc=\"\"\n",
    "\n",
    "            data_dict = {\n",
    "                'link': og_url,\n",
    "                'name': og_title,\n",
    "                'price': prix,\n",
    "                'ratings': evaluation,\n",
    "                'image_link': og_img,\n",
    "                'brand':marque,\n",
    "                'description':desc,\n",
    "                'category':f\"{categorie_name}\",\n",
    "                'subcategory':s_categories\n",
    "            }\n",
    "            my_article.append(data_dict)\n",
    "\n",
    "        except Exception as e:\n",
    "            print(f\"Error processing {lien}: {str(e)}\")\n",
    "\n",
    "        finally:\n",
    "            driver.quit()"
   ]
  },
  {
   "cell_type": "code",
   "execution_count": null,
   "id": "59d7b890-3eda-44fc-8e24-38640f30c338",
   "metadata": {
    "id": "59d7b890-3eda-44fc-8e24-38640f30c338"
   },
   "outputs": [],
   "source": [
    "import json\n",
    "\n",
    "# Specify the file path\n",
    "file_path = 'data_banggood.json'\n",
    "\n",
    "# Write the list to a JSON file\n",
    "with open(file_path, 'w',encoding='utf-8') as json_file:\n",
    "    json.dump(my_article, json_file,ensure_ascii=False,indent=4)\n",
    "\n",
    "print(f\"The list has been written to {file_path}\")"
   ]
  }
 ],
 "metadata": {
  "colab": {
   "provenance": []
  },
  "kernelspec": {
   "display_name": "Python 3 (ipykernel)",
   "language": "python",
   "name": "python3"
  },
  "language_info": {
   "codemirror_mode": {
    "name": "ipython",
    "version": 3
   },
   "file_extension": ".py",
   "mimetype": "text/x-python",
   "name": "python",
   "nbconvert_exporter": "python",
   "pygments_lexer": "ipython3",
   "version": "3.10.8"
  }
 },
 "nbformat": 4,
 "nbformat_minor": 5
}
