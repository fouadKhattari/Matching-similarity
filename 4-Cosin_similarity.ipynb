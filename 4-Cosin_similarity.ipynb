{
  "nbformat": 4,
  "nbformat_minor": 0,
  "metadata": {
    "colab": {
      "provenance": []
    },
    "kernelspec": {
      "name": "python3",
      "display_name": "Python 3"
    },
    "language_info": {
      "name": "python"
    }
  },
  "cells": [
    {
      "cell_type": "code",
      "execution_count": null,
      "metadata": {
        "id": "PqJIIKqSOt8K"
      },
      "outputs": [],
      "source": [
        "from skimage.metrics import structural_similarity as ssim\n",
        "import cv2\n",
        "import numpy as np\n",
        "from skimage.transform import resize\n",
        "from skimage.util import img_as_ubyte\n",
        "import io\n",
        "import urllib\n",
        "from PIL import Image\n",
        "import pandas as pd"
      ]
    },
    {
      "cell_type": "code",
      "source": [
        "df = pd.read_csv(\"/content/iphone_sim.csv\", encoding='utf-8')"
      ],
      "metadata": {
        "id": "ZzYYJicBO_Gn"
      },
      "execution_count": null,
      "outputs": []
    },
    {
      "cell_type": "code",
      "source": [
        "df.info()"
      ],
      "metadata": {
        "colab": {
          "base_uri": "https://localhost:8080/"
        },
        "id": "waxYGPBLPBRk",
        "outputId": "3611f489-6e4b-414a-c49f-b8ad08810a22"
      },
      "execution_count": null,
      "outputs": [
        {
          "output_type": "stream",
          "name": "stdout",
          "text": [
            "<class 'pandas.core.frame.DataFrame'>\n",
            "RangeIndex: 52150 entries, 0 to 52149\n",
            "Data columns (total 5 columns):\n",
            " #   Column        Non-Null Count  Dtype  \n",
            "---  ------        --------------  -----  \n",
            " 0   Nom amazon    52150 non-null  object \n",
            " 1   link_amazon   52150 non-null  object \n",
            " 2   Nom express   52150 non-null  object \n",
            " 3   link_express  52150 non-null  object \n",
            " 4   sim           52150 non-null  float64\n",
            "dtypes: float64(1), object(4)\n",
            "memory usage: 2.0+ MB\n"
          ]
        }
      ]
    },
    {
      "cell_type": "code",
      "source": [
        "df_filtered = df[df['sim'] > 0.8]"
      ],
      "metadata": {
        "id": "wTmfqCPmRBI7"
      },
      "execution_count": null,
      "outputs": []
    },
    {
      "cell_type": "code",
      "source": [
        "df_filtered.info()"
      ],
      "metadata": {
        "colab": {
          "base_uri": "https://localhost:8080/"
        },
        "id": "fuWKO2P7RDi5",
        "outputId": "dcc74b98-50f2-4d73-cfaf-20ee750a98d9"
      },
      "execution_count": null,
      "outputs": [
        {
          "output_type": "stream",
          "name": "stdout",
          "text": [
            "<class 'pandas.core.frame.DataFrame'>\n",
            "Int64Index: 1782 entries, 85 to 52082\n",
            "Data columns (total 5 columns):\n",
            " #   Column        Non-Null Count  Dtype  \n",
            "---  ------        --------------  -----  \n",
            " 0   Nom amazon    1782 non-null   object \n",
            " 1   link_amazon   1782 non-null   object \n",
            " 2   Nom express   1782 non-null   object \n",
            " 3   link_express  1782 non-null   object \n",
            " 4   sim           1782 non-null   float64\n",
            "dtypes: float64(1), object(4)\n",
            "memory usage: 83.5+ KB\n"
          ]
        }
      ]
    },
    {
      "cell_type": "code",
      "source": [
        "from nltk.corpus import stopwords\n",
        "from sklearn.feature_extraction.text import TfidfVectorizer\n",
        "from sklearn.metrics.pairwise import cosine_similarity\n",
        "\n",
        "def calculate_cosine_similarity(text1, text2):\n",
        "    # Séparer les mots\n",
        "    words_s1 = text1.split()\n",
        "    words_s2 = text2.split()\n",
        "\n",
        "    # Choisir le nombre minimum de mots entre les deux chaînes\n",
        "    num_words = min(len(words_s1), len(words_s2))\n",
        "    # Tronquer les deux chaînes\n",
        "    text1 = ' '.join(words_s1[:num_words])\n",
        "    text2 = ' '.join(words_s2[:num_words])\n",
        "\n",
        "    vectorizer = TfidfVectorizer()\n",
        "    vectors = vectorizer.fit_transform([text1, text2])\n",
        "\n",
        "    similarity = cosine_similarity(vectors[0], vectors[1])[0][0]\n",
        "\n",
        "    return similarity"
      ],
      "metadata": {
        "id": "K7-1sWokPgCy"
      },
      "execution_count": null,
      "outputs": []
    },
    {
      "cell_type": "code",
      "source": [
        "df_filtered['Nom amazon'][85]"
      ],
      "metadata": {
        "colab": {
          "base_uri": "https://localhost:8080/",
          "height": 36
        },
        "id": "5Cy4-S7FSa3m",
        "outputId": "d27092fc-cddf-4b0c-e29d-85ad4c192fe8"
      },
      "execution_count": null,
      "outputs": [
        {
          "output_type": "execute_result",
          "data": {
            "text/plain": [
              "'Apple iPhone 11, 64Go, Noir (Reconditionné)'"
            ],
            "application/vnd.google.colaboratory.intrinsic+json": {
              "type": "string"
            }
          },
          "metadata": {},
          "execution_count": 25
        }
      ]
    },
    {
      "cell_type": "code",
      "source": [
        "df_filtered['Nom express'][85]"
      ],
      "metadata": {
        "colab": {
          "base_uri": "https://localhost:8080/",
          "height": 36
        },
        "id": "Y78pSqU2SjiO",
        "outputId": "2a86e28d-33ac-41a1-b41d-de1b0de9dd8b"
      },
      "execution_count": null,
      "outputs": [
        {
          "output_type": "execute_result",
          "data": {
            "text/plain": [
              "'Apple iPhone 11 64GB 128GB 256GB 6.1\" Original Liquid Retina IPS LCD FACE ID A13 Genuine iPhone11 Unlocked 4G LTE Mobile Phone'"
            ],
            "application/vnd.google.colaboratory.intrinsic+json": {
              "type": "string"
            }
          },
          "metadata": {},
          "execution_count": 26
        }
      ]
    },
    {
      "cell_type": "code",
      "source": [
        "s1 = \"Apple iPhone 11 64GB 128GB 256GB 6.1 Original Liquid Retina IPS LCD FACE ID A13 Genuine iPhone11 Unlocked 4G LTE Mobile Phone\"\n",
        "s2 = \"Apple iPhone 11, 64Go, Noir (Reconditionné)\"\n",
        "\n",
        "# Séparer les mots\n",
        "words_s1 = s1.split()\n",
        "words_s2 = s2.split()\n",
        "\n",
        "# Choisir le nombre minimum de mots entre les deux chaînes\n",
        "num_words = min(len(words_s1), len(words_s2))\n",
        "\n",
        "# Tronquer les deux chaînes\n",
        "s1_truncated = ' '.join(words_s1[:num_words])\n",
        "s2_truncated = ' '.join(words_s2[:num_words])\n",
        "\n",
        "print(s1_truncated)\n",
        "print(s2_truncated)\n"
      ],
      "metadata": {
        "colab": {
          "base_uri": "https://localhost:8080/"
        },
        "id": "xZ1JtiPWTinj",
        "outputId": "a2cd49de-1ce7-4627-e8cc-8ebcf4e5b742"
      },
      "execution_count": null,
      "outputs": [
        {
          "output_type": "stream",
          "name": "stdout",
          "text": [
            "Apple iPhone 11 64GB 128GB 256GB\n",
            "Apple iPhone 11, 64Go, Noir (Reconditionné)\n"
          ]
        }
      ]
    },
    {
      "cell_type": "code",
      "source": [
        "calculate_cosine_similarity(df_filtered['Nom amazon'][85], df_filtered['Nom express'][85])"
      ],
      "metadata": {
        "colab": {
          "base_uri": "https://localhost:8080/"
        },
        "id": "pCNP1jrbSL-A",
        "outputId": "fc258ebc-72d6-42bd-c362-8a487c25ad01"
      },
      "execution_count": null,
      "outputs": [
        {
          "output_type": "execute_result",
          "data": {
            "text/plain": [
              "0.33609692727625745"
            ]
          },
          "metadata": {},
          "execution_count": 40
        }
      ]
    },
    {
      "cell_type": "code",
      "source": [
        "calculate_cosine_similarity(\"hella abc\", \"hello abc\")"
      ],
      "metadata": {
        "colab": {
          "base_uri": "https://localhost:8080/"
        },
        "id": "JEYizQ1kQDnF",
        "outputId": "b33ee3d8-fe06-4c07-be9c-52c5fc3db676"
      },
      "execution_count": null,
      "outputs": [
        {
          "output_type": "execute_result",
          "data": {
            "text/plain": [
              "0.33609692727625756"
            ]
          },
          "metadata": {},
          "execution_count": 41
        }
      ]
    },
    {
      "cell_type": "code",
      "source": [
        "df_filtered['cosin_sim'] = df_filtered.apply(lambda row: calculate_cosine_similarity(row['Nom amazon'], row['Nom express']), axis=1)"
      ],
      "metadata": {
        "colab": {
          "base_uri": "https://localhost:8080/"
        },
        "id": "wl5-FOM7QhE_",
        "outputId": "905dad52-974c-49c5-a570-3f17ccef76d9"
      },
      "execution_count": null,
      "outputs": [
        {
          "output_type": "stream",
          "name": "stderr",
          "text": [
            "<ipython-input-42-ef5be1c405ba>:1: SettingWithCopyWarning: \n",
            "A value is trying to be set on a copy of a slice from a DataFrame.\n",
            "Try using .loc[row_indexer,col_indexer] = value instead\n",
            "\n",
            "See the caveats in the documentation: https://pandas.pydata.org/pandas-docs/stable/user_guide/indexing.html#returning-a-view-versus-a-copy\n",
            "  df_filtered['cosin_sim'] = df_filtered.apply(lambda row: calculate_cosine_similarity(row['Nom amazon'], row['Nom express']), axis=1)\n"
          ]
        }
      ]
    },
    {
      "cell_type": "code",
      "source": [
        "df_filtered.head()"
      ],
      "metadata": {
        "colab": {
          "base_uri": "https://localhost:8080/",
          "height": 293
        },
        "id": "Wc5Ju_chRxic",
        "outputId": "ac6e32f1-7c6d-4292-c100-68e9e550f119"
      },
      "execution_count": null,
      "outputs": [
        {
          "output_type": "execute_result",
          "data": {
            "text/plain": [
              "                                            Nom amazon  \\\n",
              "85         Apple iPhone 11, 64Go, Noir (Reconditionné)   \n",
              "280  Apple iPhone 12 Pro, 128GB, Graphite - (Recond...   \n",
              "455  Apple iPhone 12 Pro Max, 128GB, Graphite - (Re...   \n",
              "725  Apple iPhone 11 128Go - Noir - Débloqué (Recon...   \n",
              "785  Apple iPhone 11 128Go - Noir - Débloqué (Recon...   \n",
              "\n",
              "                                           link_amazon  \\\n",
              "85   https://m.media-amazon.com/images/I/61cnmobWl4...   \n",
              "280  https://m.media-amazon.com/images/I/61DreMaVpl...   \n",
              "455  https://m.media-amazon.com/images/I/71XXJC7V8t...   \n",
              "725  https://m.media-amazon.com/images/I/710eZ8NwLo...   \n",
              "785  https://m.media-amazon.com/images/I/710eZ8NwLo...   \n",
              "\n",
              "                                           Nom express  \\\n",
              "85   Apple iPhone 11 64GB 128GB 256GB 6.1\" Original...   \n",
              "280  Apple iPhone 13 Pro 128GB 256GB ROM A15 Face I...   \n",
              "455  Apple iPhone 13 Pro 128GB 256GB ROM A15 Face I...   \n",
              "725  Unlocked Original iPhone SE 2020 SE2 A13 3G RA...   \n",
              "785  Apple iPhone 11 64GB 128GB 256GB 6.1\" Original...   \n",
              "\n",
              "                                          link_express       sim  cosin_sim  \n",
              "85   https://ae01.alicdn.com/kf/Sfae1a9f67c0b4929b7...  0.860641   0.336097  \n",
              "280  https://ae01.alicdn.com/kf/S721d2644f7ed45c38e...  0.810496   0.368023  \n",
              "455  https://ae01.alicdn.com/kf/S721d2644f7ed45c38e...  0.810690   0.311257  \n",
              "725  https://ae01.alicdn.com/kf/S0574a865c9c34603b3...  0.812327   0.068050  \n",
              "785  https://ae01.alicdn.com/kf/Sfae1a9f67c0b4929b7...  0.864854   0.253209  "
            ],
            "text/html": [
              "\n",
              "  <div id=\"df-01c265da-8b1d-47cd-a753-f505a600f0fa\" class=\"colab-df-container\">\n",
              "    <div>\n",
              "<style scoped>\n",
              "    .dataframe tbody tr th:only-of-type {\n",
              "        vertical-align: middle;\n",
              "    }\n",
              "\n",
              "    .dataframe tbody tr th {\n",
              "        vertical-align: top;\n",
              "    }\n",
              "\n",
              "    .dataframe thead th {\n",
              "        text-align: right;\n",
              "    }\n",
              "</style>\n",
              "<table border=\"1\" class=\"dataframe\">\n",
              "  <thead>\n",
              "    <tr style=\"text-align: right;\">\n",
              "      <th></th>\n",
              "      <th>Nom amazon</th>\n",
              "      <th>link_amazon</th>\n",
              "      <th>Nom express</th>\n",
              "      <th>link_express</th>\n",
              "      <th>sim</th>\n",
              "      <th>cosin_sim</th>\n",
              "    </tr>\n",
              "  </thead>\n",
              "  <tbody>\n",
              "    <tr>\n",
              "      <th>85</th>\n",
              "      <td>Apple iPhone 11, 64Go, Noir (Reconditionné)</td>\n",
              "      <td>https://m.media-amazon.com/images/I/61cnmobWl4...</td>\n",
              "      <td>Apple iPhone 11 64GB 128GB 256GB 6.1\" Original...</td>\n",
              "      <td>https://ae01.alicdn.com/kf/Sfae1a9f67c0b4929b7...</td>\n",
              "      <td>0.860641</td>\n",
              "      <td>0.336097</td>\n",
              "    </tr>\n",
              "    <tr>\n",
              "      <th>280</th>\n",
              "      <td>Apple iPhone 12 Pro, 128GB, Graphite - (Recond...</td>\n",
              "      <td>https://m.media-amazon.com/images/I/61DreMaVpl...</td>\n",
              "      <td>Apple iPhone 13 Pro 128GB 256GB ROM A15 Face I...</td>\n",
              "      <td>https://ae01.alicdn.com/kf/S721d2644f7ed45c38e...</td>\n",
              "      <td>0.810496</td>\n",
              "      <td>0.368023</td>\n",
              "    </tr>\n",
              "    <tr>\n",
              "      <th>455</th>\n",
              "      <td>Apple iPhone 12 Pro Max, 128GB, Graphite - (Re...</td>\n",
              "      <td>https://m.media-amazon.com/images/I/71XXJC7V8t...</td>\n",
              "      <td>Apple iPhone 13 Pro 128GB 256GB ROM A15 Face I...</td>\n",
              "      <td>https://ae01.alicdn.com/kf/S721d2644f7ed45c38e...</td>\n",
              "      <td>0.810690</td>\n",
              "      <td>0.311257</td>\n",
              "    </tr>\n",
              "    <tr>\n",
              "      <th>725</th>\n",
              "      <td>Apple iPhone 11 128Go - Noir - Débloqué (Recon...</td>\n",
              "      <td>https://m.media-amazon.com/images/I/710eZ8NwLo...</td>\n",
              "      <td>Unlocked Original iPhone SE 2020 SE2 A13 3G RA...</td>\n",
              "      <td>https://ae01.alicdn.com/kf/S0574a865c9c34603b3...</td>\n",
              "      <td>0.812327</td>\n",
              "      <td>0.068050</td>\n",
              "    </tr>\n",
              "    <tr>\n",
              "      <th>785</th>\n",
              "      <td>Apple iPhone 11 128Go - Noir - Débloqué (Recon...</td>\n",
              "      <td>https://m.media-amazon.com/images/I/710eZ8NwLo...</td>\n",
              "      <td>Apple iPhone 11 64GB 128GB 256GB 6.1\" Original...</td>\n",
              "      <td>https://ae01.alicdn.com/kf/Sfae1a9f67c0b4929b7...</td>\n",
              "      <td>0.864854</td>\n",
              "      <td>0.253209</td>\n",
              "    </tr>\n",
              "  </tbody>\n",
              "</table>\n",
              "</div>\n",
              "    <div class=\"colab-df-buttons\">\n",
              "\n",
              "  <div class=\"colab-df-container\">\n",
              "    <button class=\"colab-df-convert\" onclick=\"convertToInteractive('df-01c265da-8b1d-47cd-a753-f505a600f0fa')\"\n",
              "            title=\"Convert this dataframe to an interactive table.\"\n",
              "            style=\"display:none;\">\n",
              "\n",
              "  <svg xmlns=\"http://www.w3.org/2000/svg\" height=\"24px\" viewBox=\"0 -960 960 960\">\n",
              "    <path d=\"M120-120v-720h720v720H120Zm60-500h600v-160H180v160Zm220 220h160v-160H400v160Zm0 220h160v-160H400v160ZM180-400h160v-160H180v160Zm440 0h160v-160H620v160ZM180-180h160v-160H180v160Zm440 0h160v-160H620v160Z\"/>\n",
              "  </svg>\n",
              "    </button>\n",
              "\n",
              "  <style>\n",
              "    .colab-df-container {\n",
              "      display:flex;\n",
              "      gap: 12px;\n",
              "    }\n",
              "\n",
              "    .colab-df-convert {\n",
              "      background-color: #E8F0FE;\n",
              "      border: none;\n",
              "      border-radius: 50%;\n",
              "      cursor: pointer;\n",
              "      display: none;\n",
              "      fill: #1967D2;\n",
              "      height: 32px;\n",
              "      padding: 0 0 0 0;\n",
              "      width: 32px;\n",
              "    }\n",
              "\n",
              "    .colab-df-convert:hover {\n",
              "      background-color: #E2EBFA;\n",
              "      box-shadow: 0px 1px 2px rgba(60, 64, 67, 0.3), 0px 1px 3px 1px rgba(60, 64, 67, 0.15);\n",
              "      fill: #174EA6;\n",
              "    }\n",
              "\n",
              "    .colab-df-buttons div {\n",
              "      margin-bottom: 4px;\n",
              "    }\n",
              "\n",
              "    [theme=dark] .colab-df-convert {\n",
              "      background-color: #3B4455;\n",
              "      fill: #D2E3FC;\n",
              "    }\n",
              "\n",
              "    [theme=dark] .colab-df-convert:hover {\n",
              "      background-color: #434B5C;\n",
              "      box-shadow: 0px 1px 3px 1px rgba(0, 0, 0, 0.15);\n",
              "      filter: drop-shadow(0px 1px 2px rgba(0, 0, 0, 0.3));\n",
              "      fill: #FFFFFF;\n",
              "    }\n",
              "  </style>\n",
              "\n",
              "    <script>\n",
              "      const buttonEl =\n",
              "        document.querySelector('#df-01c265da-8b1d-47cd-a753-f505a600f0fa button.colab-df-convert');\n",
              "      buttonEl.style.display =\n",
              "        google.colab.kernel.accessAllowed ? 'block' : 'none';\n",
              "\n",
              "      async function convertToInteractive(key) {\n",
              "        const element = document.querySelector('#df-01c265da-8b1d-47cd-a753-f505a600f0fa');\n",
              "        const dataTable =\n",
              "          await google.colab.kernel.invokeFunction('convertToInteractive',\n",
              "                                                    [key], {});\n",
              "        if (!dataTable) return;\n",
              "\n",
              "        const docLinkHtml = 'Like what you see? Visit the ' +\n",
              "          '<a target=\"_blank\" href=https://colab.research.google.com/notebooks/data_table.ipynb>data table notebook</a>'\n",
              "          + ' to learn more about interactive tables.';\n",
              "        element.innerHTML = '';\n",
              "        dataTable['output_type'] = 'display_data';\n",
              "        await google.colab.output.renderOutput(dataTable, element);\n",
              "        const docLink = document.createElement('div');\n",
              "        docLink.innerHTML = docLinkHtml;\n",
              "        element.appendChild(docLink);\n",
              "      }\n",
              "    </script>\n",
              "  </div>\n",
              "\n",
              "\n",
              "<div id=\"df-5ab0c458-051f-420a-a5fa-0de9bf2548fd\">\n",
              "  <button class=\"colab-df-quickchart\" onclick=\"quickchart('df-5ab0c458-051f-420a-a5fa-0de9bf2548fd')\"\n",
              "            title=\"Suggest charts\"\n",
              "            style=\"display:none;\">\n",
              "\n",
              "<svg xmlns=\"http://www.w3.org/2000/svg\" height=\"24px\"viewBox=\"0 0 24 24\"\n",
              "     width=\"24px\">\n",
              "    <g>\n",
              "        <path d=\"M19 3H5c-1.1 0-2 .9-2 2v14c0 1.1.9 2 2 2h14c1.1 0 2-.9 2-2V5c0-1.1-.9-2-2-2zM9 17H7v-7h2v7zm4 0h-2V7h2v10zm4 0h-2v-4h2v4z\"/>\n",
              "    </g>\n",
              "</svg>\n",
              "  </button>\n",
              "\n",
              "<style>\n",
              "  .colab-df-quickchart {\n",
              "      --bg-color: #E8F0FE;\n",
              "      --fill-color: #1967D2;\n",
              "      --hover-bg-color: #E2EBFA;\n",
              "      --hover-fill-color: #174EA6;\n",
              "      --disabled-fill-color: #AAA;\n",
              "      --disabled-bg-color: #DDD;\n",
              "  }\n",
              "\n",
              "  [theme=dark] .colab-df-quickchart {\n",
              "      --bg-color: #3B4455;\n",
              "      --fill-color: #D2E3FC;\n",
              "      --hover-bg-color: #434B5C;\n",
              "      --hover-fill-color: #FFFFFF;\n",
              "      --disabled-bg-color: #3B4455;\n",
              "      --disabled-fill-color: #666;\n",
              "  }\n",
              "\n",
              "  .colab-df-quickchart {\n",
              "    background-color: var(--bg-color);\n",
              "    border: none;\n",
              "    border-radius: 50%;\n",
              "    cursor: pointer;\n",
              "    display: none;\n",
              "    fill: var(--fill-color);\n",
              "    height: 32px;\n",
              "    padding: 0;\n",
              "    width: 32px;\n",
              "  }\n",
              "\n",
              "  .colab-df-quickchart:hover {\n",
              "    background-color: var(--hover-bg-color);\n",
              "    box-shadow: 0 1px 2px rgba(60, 64, 67, 0.3), 0 1px 3px 1px rgba(60, 64, 67, 0.15);\n",
              "    fill: var(--button-hover-fill-color);\n",
              "  }\n",
              "\n",
              "  .colab-df-quickchart-complete:disabled,\n",
              "  .colab-df-quickchart-complete:disabled:hover {\n",
              "    background-color: var(--disabled-bg-color);\n",
              "    fill: var(--disabled-fill-color);\n",
              "    box-shadow: none;\n",
              "  }\n",
              "\n",
              "  .colab-df-spinner {\n",
              "    border: 2px solid var(--fill-color);\n",
              "    border-color: transparent;\n",
              "    border-bottom-color: var(--fill-color);\n",
              "    animation:\n",
              "      spin 1s steps(1) infinite;\n",
              "  }\n",
              "\n",
              "  @keyframes spin {\n",
              "    0% {\n",
              "      border-color: transparent;\n",
              "      border-bottom-color: var(--fill-color);\n",
              "      border-left-color: var(--fill-color);\n",
              "    }\n",
              "    20% {\n",
              "      border-color: transparent;\n",
              "      border-left-color: var(--fill-color);\n",
              "      border-top-color: var(--fill-color);\n",
              "    }\n",
              "    30% {\n",
              "      border-color: transparent;\n",
              "      border-left-color: var(--fill-color);\n",
              "      border-top-color: var(--fill-color);\n",
              "      border-right-color: var(--fill-color);\n",
              "    }\n",
              "    40% {\n",
              "      border-color: transparent;\n",
              "      border-right-color: var(--fill-color);\n",
              "      border-top-color: var(--fill-color);\n",
              "    }\n",
              "    60% {\n",
              "      border-color: transparent;\n",
              "      border-right-color: var(--fill-color);\n",
              "    }\n",
              "    80% {\n",
              "      border-color: transparent;\n",
              "      border-right-color: var(--fill-color);\n",
              "      border-bottom-color: var(--fill-color);\n",
              "    }\n",
              "    90% {\n",
              "      border-color: transparent;\n",
              "      border-bottom-color: var(--fill-color);\n",
              "    }\n",
              "  }\n",
              "</style>\n",
              "\n",
              "  <script>\n",
              "    async function quickchart(key) {\n",
              "      const quickchartButtonEl =\n",
              "        document.querySelector('#' + key + ' button');\n",
              "      quickchartButtonEl.disabled = true;  // To prevent multiple clicks.\n",
              "      quickchartButtonEl.classList.add('colab-df-spinner');\n",
              "      try {\n",
              "        const charts = await google.colab.kernel.invokeFunction(\n",
              "            'suggestCharts', [key], {});\n",
              "      } catch (error) {\n",
              "        console.error('Error during call to suggestCharts:', error);\n",
              "      }\n",
              "      quickchartButtonEl.classList.remove('colab-df-spinner');\n",
              "      quickchartButtonEl.classList.add('colab-df-quickchart-complete');\n",
              "    }\n",
              "    (() => {\n",
              "      let quickchartButtonEl =\n",
              "        document.querySelector('#df-5ab0c458-051f-420a-a5fa-0de9bf2548fd button');\n",
              "      quickchartButtonEl.style.display =\n",
              "        google.colab.kernel.accessAllowed ? 'block' : 'none';\n",
              "    })();\n",
              "  </script>\n",
              "</div>\n",
              "\n",
              "    </div>\n",
              "  </div>\n"
            ]
          },
          "metadata": {},
          "execution_count": 43
        }
      ]
    },
    {
      "cell_type": "code",
      "source": [
        "result_df = df_filtered[df_filtered['cosin_sim'] > 0.3]"
      ],
      "metadata": {
        "id": "gRwgaumTR46E"
      },
      "execution_count": null,
      "outputs": []
    },
    {
      "cell_type": "code",
      "source": [
        "result_df.info()"
      ],
      "metadata": {
        "colab": {
          "base_uri": "https://localhost:8080/"
        },
        "id": "jonBL9oOSDDW",
        "outputId": "83816916-031a-4e6c-aed3-da302a2c4e47"
      },
      "execution_count": null,
      "outputs": [
        {
          "output_type": "stream",
          "name": "stdout",
          "text": [
            "<class 'pandas.core.frame.DataFrame'>\n",
            "Int64Index: 12 entries, 85 to 27321\n",
            "Data columns (total 6 columns):\n",
            " #   Column        Non-Null Count  Dtype  \n",
            "---  ------        --------------  -----  \n",
            " 0   Nom amazon    12 non-null     object \n",
            " 1   link_amazon   12 non-null     object \n",
            " 2   Nom express   12 non-null     object \n",
            " 3   link_express  12 non-null     object \n",
            " 4   sim           12 non-null     float64\n",
            " 5   cosin_sim     12 non-null     float64\n",
            "dtypes: float64(2), object(4)\n",
            "memory usage: 672.0+ bytes\n"
          ]
        }
      ]
    },
    {
      "cell_type": "code",
      "source": [
        "for i, row in result_df.iterrows():\n"
      ],
      "metadata": {
        "id": "tnlnJp-ISD9U"
      },
      "execution_count": null,
      "outputs": []
    }
  ]
}